{
 "cells": [
  {
   "cell_type": "markdown",
   "id": "07a11b43-cc78-477c-ba66-01407174ae58",
   "metadata": {},
   "source": [
    "# Jupyter Notebook Share\n"
   ]
  },
  {
   "cell_type": "markdown",
   "id": "6b28a7e2-d5ba-4fbc-80bc-bb5aa04602e6",
   "metadata": {},
   "source": [
    "## Introdution: Coursera exercies to work with jupyter notebook and github"
   ]
  },
  {
   "cell_type": "markdown",
   "id": "35b1d553-fcf8-47d4-8d61-0d4d860485df",
   "metadata": {},
   "source": [
    "## Data Science languages\n",
    "1. Python\n",
    "1. R\n",
    "1. SQL\n",
    "1. Java\n",
    "1. Julia\n",
    "1. Scala\n",
    "1. C/C++\n",
    "1. JavaScript\n",
    "1. Swift\n",
    "1. Go\n",
    "1. MATLAB\n",
    "1. SAS\n"
   ]
  },
  {
   "cell_type": "markdown",
   "id": "bcfd0c27-06f3-4a98-b55a-e2b22a122758",
   "metadata": {},
   "source": [
    "## Data Science Libraries:\n",
    "\n",
    "- **Pandas:** Data manipulation and analysis. \n",
    "- **Scikit-learn:** Machine learning algorithms and techniques.\n",
    "- **NumPy:** Mathematical and statistical functions for arrays.\n",
    "- **Matplotlib:** Data visualization.\n",
    "- **Seaborn:** Statistical data visualization.\n",
    "- **Scikit-image:** Image processing and analysis.\n",
    "- **Gensim:** Topic modeling and word embedding.\n",
    "- **XGBoost:** Gradient boosting algorithms for classification and regression.\n",
    "- **TensorFlow:** Deep learning model development and training.\n",
    "- **PyTorch:** Machine learning library with a focus on neural networks.\n",
    "- **Statsmodels:** Time series analysis and econometrics.\n",
    "- **Shap:** Explanatory model analysis.\n",
    "- **MLflow:** Model tracking and deployment.\n",
    "- **DataRobot:** Automated machine learning platform.\n",
    "- **H2O:** Machine learning and data analytics platform.\n",
    "- **Pyspark:** Distributed data processing for large datasets.\n",
    "- **Geopandas:** Spatial data analysis and manipulation."
   ]
  },
  {
   "cell_type": "markdown",
   "id": "350594e7-e502-4fc1-bb6a-bbbc7f7e7b58",
   "metadata": {},
   "source": [
    "## Data Science Tools\n",
    "\n",
    "| Tool | Category | Description | Use Cases |\n",
    "|---|---|---|---|\n",
    "| **Python Libraries** | Programming | Machine Learning, Natural Language Processing, Data Analysis | Classification, Regression, Clustering, Text Analysis |\n",
    "| **R Packages** | Statistical Analysis | Statistical Modeling, Data Analysis | Regression Analysis, Hypothesis Testing, Time Series Analysis |\n",
    "| **Scikit-learn** | Machine Learning | Ensemble Learning, Classification, Regression | Classification, Regression, Clustering |\n",
    "| **TensorFlow** | Deep Learning | Neural Network Training | Image Recognition, Natural Language Processing, Generative Models |\n",
    "| **PyTorch** | Deep Learning | Flexible Neural Network Architecture | Machine Learning Research, Computer Vision, Robotics |\n",
    "| **Pandas** | Data Manipulation | Data Structures, Data Analysis | Data Cleaning, Transformation, Analysis |\n",
    "| **NumPy** | Numerical Computing | Linear Algebra, Matrix Operations | Machine Learning, Data Analysis |\n",
    "| **SciPy** | Scientific Computing | Optimization, Linear Algebra | Machine Learning, Data Analysis |\n",
    "| **Tableau** | Data Visualization | Interactive Data Visualizations | Data Exploration, Reporting |\n",
    "| **Matplotlib** | Data Visualization | 2D and 3D Data Visualization | Data Exploration, Research |\n",
    "| **Seaborn** | Data Visualization | Statistical Data Visualization | Data Analysis, Research |\n",
    "| **Kaggle** | Machine Learning Platform | Machine Learning Models, Datasets | Classification, Regression, Clustering |\n",
    "| **GitHub** | Version Control | Data Science Project Collaboration | Code Sharing, Collaboration |\n",
    "| **Jupyter Notebook** | Interactive Computing | Data Analysis, Machine Learning | Interactive Data Exploration, Model Development |"
   ]
  },
  {
   "cell_type": "markdown",
   "id": "27fd1d3b-29ee-4046-aa2a-478ff9b592ce",
   "metadata": {},
   "source": [
    "## Arithmetic Expression Examples in Markdown\n",
    "\n",
    "**Basic Expressions:**\n",
    "\n",
    "* `1 + 2` = 3\n",
    "* `5 - 3` = 2\n",
    "* `4 * 5` = 20\n",
    "* `10 / 2` = 5\n",
    "\n",
    "**More Complex Expressions:**\n",
    "\n",
    "* `(1 + 2) * 3` = 9\n",
    "* `5 - (3 + 2)` = 4\n",
    "* `10 / (2 + 3)` = 2\n",
    "\n",
    "**Scientific Notation:**\n",
    "\n",
    "* `1.23e4` = 12,300\n",
    "* `2.54e-5` = 0.0000254\n",
    "\n",
    "**Mixed Expressions:**\n",
    "\n",
    "* `(1 + 2) * 3 / 4` = 4.5\n",
    "\n",
    "**Using Variables:**\n",
    "\n",
    "* Let x = 5; y = 2; z = x + y;\n",
    "* The value of z is 7.\n",
    "\n"
   ]
  },
  {
   "cell_type": "code",
   "execution_count": 3,
   "id": "a71a6aa7-ac3f-4e20-88ed-6b633d076a23",
   "metadata": {},
   "outputs": [
    {
     "name": "stdout",
     "output_type": "stream",
     "text": [
      "11\n",
      "28\n"
     ]
    }
   ],
   "source": [
    "a = 4\n",
    "b = 7\n",
    "print (a+b)\n",
    "print (a*b)"
   ]
  },
  {
   "cell_type": "code",
   "execution_count": 26,
   "id": "b4044810-be73-47fe-93e4-6ea462403fdc",
   "metadata": {},
   "outputs": [
    {
     "name": "stdout",
     "output_type": "stream",
     "text": [
      "120 minutes is  2 hours\n"
     ]
    }
   ],
   "source": [
    "m = 120\n",
    "h = m / 60\n",
    "print(int(m), \"minutes is \", int(h), \"hours\")\n"
   ]
  },
  {
   "cell_type": "markdown",
   "id": "74248076-9412-4600-82d9-0f422ee8b0f1",
   "metadata": {},
   "source": [
    "## Objectives\n",
    "* Create 8 Markdown cells\n",
    "* 2 code cells\n",
    "* "
   ]
  },
  {
   "cell_type": "markdown",
   "id": "ea2da136-755f-48d5-a787-e79ddf181017",
   "metadata": {},
   "source": [
    "## Author's Name\n",
    "Frnaklin Hutto"
   ]
  }
 ],
 "metadata": {
  "kernelspec": {
   "display_name": "Python 3 (ipykernel)",
   "language": "python",
   "name": "python3"
  },
  "language_info": {
   "codemirror_mode": {
    "name": "ipython",
    "version": 3
   },
   "file_extension": ".py",
   "mimetype": "text/x-python",
   "name": "python",
   "nbconvert_exporter": "python",
   "pygments_lexer": "ipython3",
   "version": "3.12.9"
  }
 },
 "nbformat": 4,
 "nbformat_minor": 5
}
